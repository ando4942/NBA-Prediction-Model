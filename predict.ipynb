{
  "nbformat": 4,
  "nbformat_minor": 0,
  "metadata": {
    "colab": {
      "provenance": []
    },
    "kernelspec": {
      "name": "python3",
      "display_name": "Python 3"
    },
    "language_info": {
      "name": "python"
    }
  },
  "cells": [
    {
      "cell_type": "code",
      "execution_count": null,
      "metadata": {
        "id": "S6G7ilyBbr-y"
      },
      "outputs": [],
      "source": [
        "import pandas as pd\n",
        "from sklearn.ensemble import RandomForestClassifier\n",
        "from sklearn.metrics import accuracy_score, precision_score\n",
        "\n",
        "matches = pd.read_csv(\"matches.csv\", index_col=0)\n",
        "matches[\"Date\"] = pd.to_datetime(matches[\"Date\"], errors='coerce')\n",
        "matches = matches.dropna(subset=[\"Date\"])\n",
        "matches[\"target\"] = (matches[\"Result\"] == \"W\").astype(\"int\")"
      ]
    },
    {
      "cell_type": "code",
      "source": [
        "matches[\"venue_code\"] = matches[\"Home\"].astype(\"int\")\n",
        "matches[\"opp_code\"] = matches[\"Opponent\"].astype(\"category\").cat.codes\n",
        "matches[\"day_code\"] = matches[\"Date\"].dt.dayofweek\n",
        "matches[\"month\"] = matches[\"Date\"].dt.month\n",
        "\n",
        "predictors = [\"venue_code\", \"opp_code\", \"day_code\", \"month\"]\n",
        "\n",
        "rf = RandomForestClassifier(n_estimators=50, min_samples_split=10, random_state=1)\n",
        "\n",
        "train = matches[matches[\"Date\"] < '2024-01-01']\n",
        "test = matches[matches[\"Date\"] >= '2024-01-01']\n",
        "\n",
        "rf.fit(train[predictors], train[\"target\"])\n",
        "preds = rf.predict(test[predictors])\n",
        "\n",
        "error = accuracy_score(test[\"target\"], preds)\n",
        "combined = pd.DataFrame(dict(actual=test[\"target\"], predicted=preds))\n",
        "crosstab = pd.crosstab(index=combined[\"actual\"], columns=combined[\"predicted\"], rownames=['Actual'], colnames=['Predicted'])\n",
        "precision = precision_score(test[\"target\"], preds)"
      ],
      "metadata": {
        "id": "VbuIMfCxbvbm"
      },
      "execution_count": null,
      "outputs": []
    },
    {
      "cell_type": "code",
      "source": [
        "matches.index = range(matches.shape[0])"
      ],
      "metadata": {
        "id": "orYo8aFcbxFl"
      },
      "execution_count": null,
      "outputs": []
    },
    {
      "cell_type": "code",
      "source": [
        "def make_predictions(data, predictors):\n",
        "  train = data[data[\"Date\"] < '2024-01-01']\n",
        "  test = data[data[\"Date\"] >= '2024-01-01']\n",
        "  rf.fit(train[predictors], train[\"target\"])\n",
        "  preds = rf.predict(test[predictors])\n",
        "  combined = pd.DataFrame(dict(actual=test[\"target\"], predicted=preds), index=test.index)\n",
        "  error = precision_score(test[\"target\"], preds)\n",
        "  return combined, error\n",
        "\n",
        "combined, error = make_predictions(matches, predictors)\n",
        "\n",
        "print(\"Accuracy:\", error)\n",
        "print(\"Precision:\", precision)\n",
        "print(crosstab)"
      ],
      "metadata": {
        "id": "aZ3rW4NicASA"
      },
      "execution_count": null,
      "outputs": []
    }
  ]
}