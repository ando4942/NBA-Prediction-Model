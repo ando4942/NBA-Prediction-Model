{
  "nbformat": 4,
  "nbformat_minor": 0,
  "metadata": {
    "colab": {
      "provenance": []
    },
    "kernelspec": {
      "name": "python3",
      "display_name": "Python 3"
    },
    "language_info": {
      "name": "python"
    }
  },
  "cells": [
    {
      "cell_type": "code",
      "execution_count": null,
      "metadata": {
        "id": "5eYHyQTslIN8"
      },
      "outputs": [],
      "source": [
        "import requests\n",
        "from bs4 import BeautifulSoup\n",
        "import pandas as pd\n",
        "import re\n",
        "import time"
      ]
    },
    {
      "cell_type": "code",
      "source": [
        "all_matches = []\n",
        "standings_url = \"https://www.basketball-reference.com/leagues/NBA_2024.html#all_per_game_team-opponent\"\n",
        "data = requests.get(standings_url)\n",
        "soup = BeautifulSoup(data.text)\n",
        "\n",
        "standings_table_east = soup.select('table.stats_table')[0]\n",
        "standings_table_west = soup.select('table.stats_table')[1]\n",
        "links_east = standings_table_east.find_all('a')\n",
        "links_west = standings_table_west.find_all('a')\n",
        "links = links_east + links_west\n",
        "links = [l.get(\"href\") for l in links]\n",
        "team_urls = [f\"https://www.basketball-reference.com{l}\" for l in links]\n",
        "\n",
        "previous_season = soup.select(\"a.prev\")[0].get(\"href\")\n",
        "standings_url = f\"https://www.basketball-reference.com{previous_season}\"\n",
        "\n",
        "for team_url in team_urls:\n",
        "  team_name = team_url.split(\"/\")[-2]\n",
        "  data = requests.get(team_url)\n",
        "  soup = BeautifulSoup(data.text)\n",
        "  results = soup.find_all('li', class_='result')\n",
        "  games_data = []\n",
        "  for result in results:\n",
        "    games_data.append(result.find('span', class_='poptip')['tip'])\n",
        "\n",
        "  processed_data = [re.sub(r'^\\d+\\.\\s*', '', item) for item in games_data]\n",
        "  team_data = pd.DataFrame([item.split(', ') for item in processed_data], columns=['Date', 'Result', 'Score'])\n",
        "  team_data['Home'] = team_data['Date'].str.contains('@')\n",
        "  team_data['Date'] = team_data['Date'].str.replace(r'@\\s*\\w+', '', regex=True)\n",
        "  team_data['Opponent'] = team_data['Result'].str.extract(r'(\\w+)$')\n",
        "  team_data['Result'] = team_data['Result'].str.replace(r'\\s*\\w+$', '', regex=True)\n",
        "  team_data['Record'] = team_data['Result'].str.extract(r'\\((\\d+-\\d+)\\)')\n",
        "  team_data['Result'] = team_data['Result'].apply(lambda x: 'W' if 'beat' in x else 'L')\n",
        "  team_data['Team'] = team_name\n",
        "\n",
        "  all_matches.append(team_data)\n",
        "  time.sleep(1)"
      ],
      "metadata": {
        "colab": {
          "base_uri": "https://localhost:8080/",
          "height": 216
        },
        "id": "pVEL4PXHH5Qe",
        "outputId": "2c54ea84-5606-4149-95e0-7659d16e2034"
      },
      "execution_count": null,
      "outputs": [
        {
          "output_type": "error",
          "ename": "IndexError",
          "evalue": "list index out of range",
          "traceback": [
            "\u001b[0;31m---------------------------------------------------------------------------\u001b[0m",
            "\u001b[0;31mIndexError\u001b[0m                                Traceback (most recent call last)",
            "\u001b[0;32m<ipython-input-17-7acc8eaff40d>\u001b[0m in \u001b[0;36m<cell line: 0>\u001b[0;34m()\u001b[0m\n\u001b[1;32m      4\u001b[0m \u001b[0msoup\u001b[0m \u001b[0;34m=\u001b[0m \u001b[0mBeautifulSoup\u001b[0m\u001b[0;34m(\u001b[0m\u001b[0mdata\u001b[0m\u001b[0;34m.\u001b[0m\u001b[0mtext\u001b[0m\u001b[0;34m)\u001b[0m\u001b[0;34m\u001b[0m\u001b[0;34m\u001b[0m\u001b[0m\n\u001b[1;32m      5\u001b[0m \u001b[0;34m\u001b[0m\u001b[0m\n\u001b[0;32m----> 6\u001b[0;31m \u001b[0mstandings_table_east\u001b[0m \u001b[0;34m=\u001b[0m \u001b[0msoup\u001b[0m\u001b[0;34m.\u001b[0m\u001b[0mselect\u001b[0m\u001b[0;34m(\u001b[0m\u001b[0;34m'table.stats_table'\u001b[0m\u001b[0;34m)\u001b[0m\u001b[0;34m[\u001b[0m\u001b[0;36m0\u001b[0m\u001b[0;34m]\u001b[0m\u001b[0;34m\u001b[0m\u001b[0;34m\u001b[0m\u001b[0m\n\u001b[0m\u001b[1;32m      7\u001b[0m \u001b[0mstandings_table_west\u001b[0m \u001b[0;34m=\u001b[0m \u001b[0msoup\u001b[0m\u001b[0;34m.\u001b[0m\u001b[0mselect\u001b[0m\u001b[0;34m(\u001b[0m\u001b[0;34m'table.stats_table'\u001b[0m\u001b[0;34m)\u001b[0m\u001b[0;34m[\u001b[0m\u001b[0;36m1\u001b[0m\u001b[0;34m]\u001b[0m\u001b[0;34m\u001b[0m\u001b[0;34m\u001b[0m\u001b[0m\n\u001b[1;32m      8\u001b[0m \u001b[0mlinks_east\u001b[0m \u001b[0;34m=\u001b[0m \u001b[0mstandings_table_east\u001b[0m\u001b[0;34m.\u001b[0m\u001b[0mfind_all\u001b[0m\u001b[0;34m(\u001b[0m\u001b[0;34m'a'\u001b[0m\u001b[0;34m)\u001b[0m\u001b[0;34m\u001b[0m\u001b[0;34m\u001b[0m\u001b[0m\n",
            "\u001b[0;31mIndexError\u001b[0m: list index out of range"
          ]
        }
      ]
    },
    {
      "cell_type": "code",
      "source": [
        "match_df = pd.concat(all_matches)"
      ],
      "metadata": {
        "id": "bDdq9LeYMlV6"
      },
      "execution_count": null,
      "outputs": []
    },
    {
      "cell_type": "code",
      "source": [
        "match_df.to_csv(\"matches.csv\")"
      ],
      "metadata": {
        "id": "P8d7iBdUMuvb"
      },
      "execution_count": null,
      "outputs": []
    }
  ]
}